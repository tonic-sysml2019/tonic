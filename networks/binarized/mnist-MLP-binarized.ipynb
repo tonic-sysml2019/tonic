{
 "cells": [
  {
   "cell_type": "code",
   "execution_count": 1,
   "metadata": {},
   "outputs": [
    {
     "name": "stderr",
     "output_type": "stream",
     "text": [
      "Using TensorFlow backend.\n"
     ]
    }
   ],
   "source": [
    "from __future__ import print_function\n",
    "import os\n",
    "import numpy as np\n",
    "import keras\n",
    "\n",
    "import keras.backend as K\n",
    "from keras.datasets import mnist\n",
    "from keras.models import Sequential\n",
    "from keras.layers import Dense, Dropout, Activation, BatchNormalization\n",
    "from keras.optimizers import SGD, Adam, RMSprop\n",
    "from keras.callbacks import LearningRateScheduler\n",
    "from keras.utils import np_utils\n",
    "from keras.callbacks import ModelCheckpoint\n",
    "\n",
    "np.random.seed(1337)\n",
    "\n",
    "from binary_ops import binary_tanh as binary_tanh_op\n",
    "from binary_layers import BinaryDense, Clip"
   ]
  },
  {
   "cell_type": "code",
   "execution_count": 2,
   "metadata": {},
   "outputs": [],
   "source": [
    "import matplotlib.pyplot as plt\n",
    "from matplotlib.pyplot import imshow\n",
    "%matplotlib inline\n",
    "from keras.preprocessing import image"
   ]
  },
  {
   "cell_type": "code",
   "execution_count": 3,
   "metadata": {},
   "outputs": [],
   "source": [
    "class DropoutNoScale(Dropout):\n",
    "    '''Keras Dropout does scale the input in training phase, which is undesirable here.\n",
    "    '''\n",
    "    def call(self, inputs, training=None):\n",
    "        if 0. < self.rate < 1.:\n",
    "            noise_shape = self._get_noise_shape(inputs)\n",
    "\n",
    "            def dropped_inputs():\n",
    "                return K.dropout(inputs, self.rate, noise_shape,\n",
    "                                 seed=self.seed) * (1 - self.rate)\n",
    "            return K.in_train_phase(dropped_inputs, inputs,\n",
    "                                    training=training)\n",
    "        return inputs\n",
    "\n",
    "def binary_tanh(x):\n",
    "    return binary_tanh_op(x)"
   ]
  },
  {
   "cell_type": "code",
   "execution_count": 4,
   "metadata": {},
   "outputs": [],
   "source": [
    "batch_size = 128\n",
    "epochs = 100\n",
    "nb_classes = 10\n",
    "\n",
    "H = 'Glorot'\n",
    "kernel_lr_multiplier = 'Glorot'\n",
    "\n",
    "# network\n",
    "use_bias = False\n",
    "\n",
    "# learning rate schedule\n",
    "lr_start = 1e-3\n",
    "lr_end = 1e-4\n",
    "lr_decay = (lr_end / lr_start)**(1. / epochs)"
   ]
  },
  {
   "cell_type": "code",
   "execution_count": 5,
   "metadata": {},
   "outputs": [
    {
     "name": "stdout",
     "output_type": "stream",
     "text": [
      "60000 train samples\n",
      "10000 test samples\n"
     ]
    }
   ],
   "source": [
    "# dataset\n",
    "(X_train, y_train), (X_test, y_test) = mnist.load_data()\n",
    "\n",
    "X_train = X_train.reshape(60000, 784)\n",
    "X_test = X_test.reshape(10000, 784)\n",
    "X_train = X_train.astype('float32')\n",
    "X_test = X_test.astype('float32')\n",
    "X_train /= 255\n",
    "X_test /= 255\n",
    "print(X_train.shape[0], 'train samples')\n",
    "print(X_test.shape[0], 'test samples')\n",
    "\n",
    "# convert class vectors to binary class matrices\n",
    "Y_train = np_utils.to_categorical(y_train, nb_classes) * 2 - 1 # -1 or 1 for hinge loss\n",
    "Y_test = np_utils.to_categorical(y_test, nb_classes) * 2 - 1"
   ]
  },
  {
   "cell_type": "code",
   "execution_count": 8,
   "metadata": {},
   "outputs": [
    {
     "name": "stdout",
     "output_type": "stream",
     "text": [
      "_________________________________________________________________\n",
      "Layer (type)                 Output Shape              Param #   \n",
      "=================================================================\n",
      "dense0 (BinaryDense)         (None, 4096)              3211264   \n",
      "_________________________________________________________________\n",
      "act0 (Activation)            (None, 4096)              0         \n",
      "_________________________________________________________________\n",
      "dense1 (BinaryDense)         (None, 4096)              16777216  \n",
      "_________________________________________________________________\n",
      "act1 (Activation)            (None, 4096)              0         \n",
      "_________________________________________________________________\n",
      "dense2 (BinaryDense)         (None, 10)                40960     \n",
      "=================================================================\n",
      "Total params: 20,029,440\n",
      "Trainable params: 20,029,440\n",
      "Non-trainable params: 0\n",
      "_________________________________________________________________\n"
     ]
    }
   ],
   "source": [
    "model = Sequential()\n",
    "\n",
    "model.add(BinaryDense(4096, input_shape=(784,), H=H, kernel_lr_multiplier=kernel_lr_multiplier, use_bias=use_bias,\n",
    "              name='dense0'))\n",
    "model.add(Activation(binary_tanh, name='act0'))\n",
    "model.add(BinaryDense(4096, H=H, kernel_lr_multiplier=kernel_lr_multiplier, use_bias=use_bias,\n",
    "              name='dense1'))\n",
    "model.add(Activation(binary_tanh, name='act1'))\n",
    "model.add(BinaryDense(10, H=H, kernel_lr_multiplier=kernel_lr_multiplier, use_bias=use_bias,\n",
    "          name='dense2'))\n",
    "\n",
    "model.summary()"
   ]
  },
  {
   "cell_type": "code",
   "execution_count": 9,
   "metadata": {},
   "outputs": [],
   "source": [
    "path = 'saved_models'\n",
    "\n",
    "save_dir = os.path.join(os.getcwd(), path)\n",
    "model_name = 'MLPbinarized_mnist_model.{epoch:03d}-{val_acc:.2f}.h5'\n",
    "filepath = os.path.join(save_dir, model_name)\n",
    "if not os.path.isdir(save_dir):\n",
    "  os.makedirs(save_dir)  \n",
    "\n",
    "checkpoint = ModelCheckpoint(filepath=filepath,\n",
    "                             monitor='val_acc',\n",
    "                             verbose=1,\n",
    "                             save_best_only=True)"
   ]
  },
  {
   "cell_type": "code",
   "execution_count": 10,
   "metadata": {},
   "outputs": [],
   "source": [
    "opt = Adam(lr=lr_start) \n",
    "model.compile(loss='squared_hinge', optimizer=opt, metrics=['acc'])\n",
    "lr_scheduler = LearningRateScheduler(lambda e: lr_start * lr_decay ** e)"
   ]
  },
  {
   "cell_type": "code",
   "execution_count": 11,
   "metadata": {
    "scrolled": false
   },
   "outputs": [
    {
     "name": "stdout",
     "output_type": "stream",
     "text": [
      "Train on 60000 samples, validate on 10000 samples\n",
      "Epoch 1/100\n",
      "60000/60000 [==============================] - 22s 365us/step - loss: 0.2330 - acc: 0.8920 - val_loss: 0.0429 - val_acc: 0.9419\n",
      "\n",
      "Epoch 00001: val_acc improved from -inf to 0.94190, saving model to /root/workspace/bnn_p4/BaNaNa-split-binarization/binarized/saved_models/MLPbinarized_mnist_model.001-0.94.h5\n",
      "Epoch 2/100\n",
      "60000/60000 [==============================] - 19s 313us/step - loss: 0.0486 - acc: 0.9418 - val_loss: 0.0508 - val_acc: 0.9382\n",
      "\n",
      "Epoch 00002: val_acc did not improve from 0.94190\n",
      "Epoch 3/100\n",
      "60000/60000 [==============================] - 19s 315us/step - loss: 0.0417 - acc: 0.9532 - val_loss: 0.0596 - val_acc: 0.9379\n",
      "\n",
      "Epoch 00003: val_acc did not improve from 0.94190\n",
      "Epoch 4/100\n",
      "60000/60000 [==============================] - 19s 316us/step - loss: 0.0422 - acc: 0.9576 - val_loss: 0.0547 - val_acc: 0.9484\n",
      "\n",
      "Epoch 00004: val_acc improved from 0.94190 to 0.94840, saving model to /root/workspace/bnn_p4/BaNaNa-split-binarization/binarized/saved_models/MLPbinarized_mnist_model.004-0.95.h5\n",
      "Epoch 5/100\n",
      "60000/60000 [==============================] - 19s 316us/step - loss: 0.0518 - acc: 0.9556 - val_loss: 0.0466 - val_acc: 0.9609\n",
      "\n",
      "Epoch 00005: val_acc improved from 0.94840 to 0.96090, saving model to /root/workspace/bnn_p4/BaNaNa-split-binarization/binarized/saved_models/MLPbinarized_mnist_model.005-0.96.h5\n",
      "Epoch 6/100\n",
      "60000/60000 [==============================] - 19s 318us/step - loss: 0.0529 - acc: 0.9565 - val_loss: 0.0704 - val_acc: 0.9492\n",
      "\n",
      "Epoch 00006: val_acc did not improve from 0.96090\n",
      "Epoch 7/100\n",
      "60000/60000 [==============================] - 19s 319us/step - loss: 0.0700 - acc: 0.9482 - val_loss: 0.0530 - val_acc: 0.9577\n",
      "\n",
      "Epoch 00007: val_acc did not improve from 0.96090\n",
      "Epoch 8/100\n",
      "60000/60000 [==============================] - 19s 320us/step - loss: 0.0730 - acc: 0.9474 - val_loss: 0.0756 - val_acc: 0.9412\n",
      "\n",
      "Epoch 00008: val_acc did not improve from 0.96090\n",
      "Epoch 9/100\n",
      "60000/60000 [==============================] - 19s 321us/step - loss: 0.0830 - acc: 0.9432 - val_loss: 0.0960 - val_acc: 0.9344\n",
      "\n",
      "Epoch 00009: val_acc did not improve from 0.96090\n",
      "Epoch 10/100\n",
      "60000/60000 [==============================] - 19s 321us/step - loss: 0.0878 - acc: 0.9438 - val_loss: 0.1797 - val_acc: 0.9178\n",
      "\n",
      "Epoch 00010: val_acc did not improve from 0.96090\n",
      "Epoch 11/100\n",
      "60000/60000 [==============================] - 19s 321us/step - loss: 0.0836 - acc: 0.9442 - val_loss: 0.0938 - val_acc: 0.9340\n",
      "\n",
      "Epoch 00011: val_acc did not improve from 0.96090\n",
      "Epoch 12/100\n",
      "60000/60000 [==============================] - 19s 321us/step - loss: 0.0854 - acc: 0.9451 - val_loss: 0.0838 - val_acc: 0.9390\n",
      "\n",
      "Epoch 00012: val_acc did not improve from 0.96090\n",
      "Epoch 13/100\n",
      "60000/60000 [==============================] - 19s 322us/step - loss: 0.0823 - acc: 0.9459 - val_loss: 0.1709 - val_acc: 0.9039\n",
      "\n",
      "Epoch 00013: val_acc did not improve from 0.96090\n",
      "Epoch 14/100\n",
      "60000/60000 [==============================] - 19s 322us/step - loss: 0.0697 - acc: 0.9509 - val_loss: 0.0829 - val_acc: 0.9451\n",
      "\n",
      "Epoch 00014: val_acc did not improve from 0.96090\n",
      "Epoch 15/100\n",
      "60000/60000 [==============================] - 19s 323us/step - loss: 0.0764 - acc: 0.9496 - val_loss: 0.0908 - val_acc: 0.9398\n",
      "\n",
      "Epoch 00015: val_acc did not improve from 0.96090\n",
      "Epoch 16/100\n",
      "60000/60000 [==============================] - 19s 323us/step - loss: 0.0826 - acc: 0.9459 - val_loss: 0.0749 - val_acc: 0.9494\n",
      "\n",
      "Epoch 00016: val_acc did not improve from 0.96090\n",
      "Epoch 17/100\n",
      "60000/60000 [==============================] - 19s 324us/step - loss: 0.0787 - acc: 0.9485 - val_loss: 0.1041 - val_acc: 0.9379\n",
      "\n",
      "Epoch 00017: val_acc did not improve from 0.96090\n",
      "Epoch 18/100\n",
      "60000/60000 [==============================] - 19s 324us/step - loss: 0.0673 - acc: 0.9547 - val_loss: 0.0752 - val_acc: 0.9492\n",
      "\n",
      "Epoch 00018: val_acc did not improve from 0.96090\n",
      "Epoch 19/100\n",
      "60000/60000 [==============================] - 19s 323us/step - loss: 0.0730 - acc: 0.9528 - val_loss: 0.0772 - val_acc: 0.9445\n",
      "\n",
      "Epoch 00019: val_acc did not improve from 0.96090\n",
      "Epoch 20/100\n",
      "60000/60000 [==============================] - 19s 323us/step - loss: 0.0586 - acc: 0.9573 - val_loss: 0.0682 - val_acc: 0.9560\n",
      "\n",
      "Epoch 00020: val_acc did not improve from 0.96090\n",
      "Epoch 21/100\n",
      "60000/60000 [==============================] - 19s 323us/step - loss: 0.0670 - acc: 0.9545 - val_loss: 0.0830 - val_acc: 0.9463\n",
      "\n",
      "Epoch 00021: val_acc did not improve from 0.96090\n",
      "Epoch 22/100\n",
      "60000/60000 [==============================] - 19s 324us/step - loss: 0.0677 - acc: 0.9543 - val_loss: 0.0949 - val_acc: 0.9425\n",
      "\n",
      "Epoch 00022: val_acc did not improve from 0.96090\n",
      "Epoch 23/100\n",
      "60000/60000 [==============================] - 20s 328us/step - loss: 0.0622 - acc: 0.9565 - val_loss: 0.0598 - val_acc: 0.9531\n",
      "\n",
      "Epoch 00023: val_acc did not improve from 0.96090\n",
      "Epoch 24/100\n",
      "60000/60000 [==============================] - 20s 328us/step - loss: 0.0555 - acc: 0.9595 - val_loss: 0.0801 - val_acc: 0.9452\n",
      "\n",
      "Epoch 00024: val_acc did not improve from 0.96090\n",
      "Epoch 25/100\n",
      "60000/60000 [==============================] - 20s 328us/step - loss: 0.0603 - acc: 0.9577 - val_loss: 0.0694 - val_acc: 0.9526\n",
      "\n",
      "Epoch 00025: val_acc did not improve from 0.96090\n",
      "Epoch 26/100\n",
      "60000/60000 [==============================] - 20s 328us/step - loss: 0.0480 - acc: 0.9639 - val_loss: 0.0649 - val_acc: 0.9566\n",
      "\n",
      "Epoch 00026: val_acc did not improve from 0.96090\n",
      "Epoch 27/100\n",
      "60000/60000 [==============================] - 20s 328us/step - loss: 0.0570 - acc: 0.9602 - val_loss: 0.0673 - val_acc: 0.9477\n",
      "\n",
      "Epoch 00027: val_acc did not improve from 0.96090\n",
      "Epoch 28/100\n",
      "60000/60000 [==============================] - 20s 328us/step - loss: 0.0510 - acc: 0.9637 - val_loss: 0.0500 - val_acc: 0.9622\n",
      "\n",
      "Epoch 00028: val_acc improved from 0.96090 to 0.96220, saving model to /root/workspace/bnn_p4/BaNaNa-split-binarization/binarized/saved_models/MLPbinarized_mnist_model.028-0.96.h5\n",
      "Epoch 29/100\n",
      "60000/60000 [==============================] - 20s 327us/step - loss: 0.0485 - acc: 0.9647 - val_loss: 0.0557 - val_acc: 0.9580\n",
      "\n",
      "Epoch 00029: val_acc did not improve from 0.96220\n",
      "Epoch 30/100\n",
      "60000/60000 [==============================] - 20s 329us/step - loss: 0.0474 - acc: 0.9654 - val_loss: 0.0475 - val_acc: 0.9628\n",
      "\n",
      "Epoch 00030: val_acc improved from 0.96220 to 0.96280, saving model to /root/workspace/bnn_p4/BaNaNa-split-binarization/binarized/saved_models/MLPbinarized_mnist_model.030-0.96.h5\n",
      "Epoch 31/100\n",
      "60000/60000 [==============================] - 20s 329us/step - loss: 0.0459 - acc: 0.9659 - val_loss: 0.0515 - val_acc: 0.9611\n",
      "\n",
      "Epoch 00031: val_acc did not improve from 0.96280\n",
      "Epoch 32/100\n",
      "60000/60000 [==============================] - 20s 333us/step - loss: 0.0426 - acc: 0.9673 - val_loss: 0.0507 - val_acc: 0.9587\n",
      "\n",
      "Epoch 00032: val_acc did not improve from 0.96280\n",
      "Epoch 33/100\n",
      "60000/60000 [==============================] - 20s 328us/step - loss: 0.0394 - acc: 0.9694 - val_loss: 0.0468 - val_acc: 0.9652\n",
      "\n",
      "Epoch 00033: val_acc improved from 0.96280 to 0.96520, saving model to /root/workspace/bnn_p4/BaNaNa-split-binarization/binarized/saved_models/MLPbinarized_mnist_model.033-0.97.h5\n",
      "Epoch 34/100\n",
      "60000/60000 [==============================] - 20s 334us/step - loss: 0.0390 - acc: 0.9703 - val_loss: 0.0443 - val_acc: 0.9645\n",
      "\n",
      "Epoch 00034: val_acc did not improve from 0.96520\n",
      "Epoch 35/100\n",
      "60000/60000 [==============================] - 20s 328us/step - loss: 0.0352 - acc: 0.9713 - val_loss: 0.0410 - val_acc: 0.9663\n",
      "\n",
      "Epoch 00035: val_acc improved from 0.96520 to 0.96630, saving model to /root/workspace/bnn_p4/BaNaNa-split-binarization/binarized/saved_models/MLPbinarized_mnist_model.035-0.97.h5\n",
      "Epoch 36/100\n",
      "60000/60000 [==============================] - 20s 334us/step - loss: 0.0385 - acc: 0.9704 - val_loss: 0.0479 - val_acc: 0.9658\n",
      "\n",
      "Epoch 00036: val_acc did not improve from 0.96630\n",
      "Epoch 37/100\n",
      "60000/60000 [==============================] - 20s 328us/step - loss: 0.0343 - acc: 0.9727 - val_loss: 0.0608 - val_acc: 0.9570\n",
      "\n",
      "Epoch 00037: val_acc did not improve from 0.96630\n",
      "Epoch 38/100\n",
      "60000/60000 [==============================] - 20s 328us/step - loss: 0.0332 - acc: 0.9729 - val_loss: 0.0365 - val_acc: 0.9723\n"
     ]
    },
    {
     "name": "stdout",
     "output_type": "stream",
     "text": [
      "\n",
      "Epoch 00038: val_acc improved from 0.96630 to 0.97230, saving model to /root/workspace/bnn_p4/BaNaNa-split-binarization/binarized/saved_models/MLPbinarized_mnist_model.038-0.97.h5\n",
      "Epoch 39/100\n",
      "60000/60000 [==============================] - 20s 339us/step - loss: 0.0302 - acc: 0.9761 - val_loss: 0.0438 - val_acc: 0.9656\n",
      "\n",
      "Epoch 00039: val_acc did not improve from 0.97230\n",
      "Epoch 40/100\n",
      "60000/60000 [==============================] - 20s 329us/step - loss: 0.0333 - acc: 0.9737 - val_loss: 0.0481 - val_acc: 0.9628\n",
      "\n",
      "Epoch 00040: val_acc did not improve from 0.97230\n",
      "Epoch 41/100\n",
      "60000/60000 [==============================] - 20s 328us/step - loss: 0.0323 - acc: 0.9746 - val_loss: 0.0777 - val_acc: 0.9539\n",
      "\n",
      "Epoch 00041: val_acc did not improve from 0.97230\n",
      "Epoch 42/100\n",
      "60000/60000 [==============================] - 20s 327us/step - loss: 0.0269 - acc: 0.9775 - val_loss: 0.0348 - val_acc: 0.9720\n",
      "\n",
      "Epoch 00042: val_acc did not improve from 0.97230\n",
      "Epoch 43/100\n",
      "60000/60000 [==============================] - 20s 331us/step - loss: 0.0280 - acc: 0.9771 - val_loss: 0.0306 - val_acc: 0.9721\n",
      "\n",
      "Epoch 00043: val_acc did not improve from 0.97230\n",
      "Epoch 44/100\n",
      "60000/60000 [==============================] - 20s 331us/step - loss: 0.0238 - acc: 0.9804 - val_loss: 0.0328 - val_acc: 0.9719\n",
      "\n",
      "Epoch 00044: val_acc did not improve from 0.97230\n",
      "Epoch 45/100\n",
      "60000/60000 [==============================] - 20s 331us/step - loss: 0.0251 - acc: 0.9797 - val_loss: 0.0684 - val_acc: 0.9536\n",
      "\n",
      "Epoch 00045: val_acc did not improve from 0.97230\n",
      "Epoch 46/100\n",
      "60000/60000 [==============================] - 20s 331us/step - loss: 0.0259 - acc: 0.9793 - val_loss: 0.0385 - val_acc: 0.9684\n",
      "\n",
      "Epoch 00046: val_acc did not improve from 0.97230\n",
      "Epoch 47/100\n",
      "60000/60000 [==============================] - 20s 328us/step - loss: 0.0212 - acc: 0.9824 - val_loss: 0.0526 - val_acc: 0.9584\n",
      "\n",
      "Epoch 00047: val_acc did not improve from 0.97230\n",
      "Epoch 48/100\n",
      "60000/60000 [==============================] - 20s 331us/step - loss: 0.0228 - acc: 0.9817 - val_loss: 0.0360 - val_acc: 0.9693\n",
      "\n",
      "Epoch 00048: val_acc did not improve from 0.97230\n",
      "Epoch 49/100\n",
      "60000/60000 [==============================] - 20s 331us/step - loss: 0.0218 - acc: 0.9822 - val_loss: 0.0431 - val_acc: 0.9669\n",
      "\n",
      "Epoch 00049: val_acc did not improve from 0.97230\n",
      "Epoch 50/100\n",
      "60000/60000 [==============================] - 20s 331us/step - loss: 0.0203 - acc: 0.9838 - val_loss: 0.0395 - val_acc: 0.9690\n",
      "\n",
      "Epoch 00050: val_acc did not improve from 0.97230\n",
      "Epoch 51/100\n",
      "60000/60000 [==============================] - 20s 331us/step - loss: 0.0181 - acc: 0.9851 - val_loss: 0.0365 - val_acc: 0.9711\n",
      "\n",
      "Epoch 00051: val_acc did not improve from 0.97230\n",
      "Epoch 52/100\n",
      "60000/60000 [==============================] - 20s 331us/step - loss: 0.0167 - acc: 0.9863 - val_loss: 0.0335 - val_acc: 0.9719\n",
      "\n",
      "Epoch 00052: val_acc did not improve from 0.97230\n",
      "Epoch 53/100\n",
      "60000/60000 [==============================] - 20s 331us/step - loss: 0.0198 - acc: 0.9842 - val_loss: 0.0453 - val_acc: 0.9672\n",
      "\n",
      "Epoch 00053: val_acc did not improve from 0.97230\n",
      "Epoch 54/100\n",
      "60000/60000 [==============================] - 20s 331us/step - loss: 0.0159 - acc: 0.9868 - val_loss: 0.0288 - val_acc: 0.9731\n",
      "\n",
      "Epoch 00054: val_acc improved from 0.97230 to 0.97310, saving model to /root/workspace/bnn_p4/BaNaNa-split-binarization/binarized/saved_models/MLPbinarized_mnist_model.054-0.97.h5\n",
      "Epoch 55/100\n",
      "60000/60000 [==============================] - 20s 336us/step - loss: 0.0127 - acc: 0.9893 - val_loss: 0.0271 - val_acc: 0.9758\n",
      "\n",
      "Epoch 00055: val_acc improved from 0.97310 to 0.97580, saving model to /root/workspace/bnn_p4/BaNaNa-split-binarization/binarized/saved_models/MLPbinarized_mnist_model.055-0.98.h5\n",
      "Epoch 56/100\n",
      "60000/60000 [==============================] - 20s 334us/step - loss: 0.0135 - acc: 0.9892 - val_loss: 0.0310 - val_acc: 0.9742\n",
      "\n",
      "Epoch 00056: val_acc did not improve from 0.97580\n",
      "Epoch 57/100\n",
      "60000/60000 [==============================] - 20s 334us/step - loss: 0.0109 - acc: 0.9916 - val_loss: 0.0329 - val_acc: 0.9767\n",
      "\n",
      "Epoch 00057: val_acc improved from 0.97580 to 0.97670, saving model to /root/workspace/bnn_p4/BaNaNa-split-binarization/binarized/saved_models/MLPbinarized_mnist_model.057-0.98.h5\n",
      "Epoch 58/100\n",
      "60000/60000 [==============================] - 20s 335us/step - loss: 0.0110 - acc: 0.9909 - val_loss: 0.0295 - val_acc: 0.9757\n",
      "\n",
      "Epoch 00058: val_acc did not improve from 0.97670\n",
      "Epoch 59/100\n",
      "60000/60000 [==============================] - 20s 332us/step - loss: 0.0124 - acc: 0.9902 - val_loss: 0.0341 - val_acc: 0.9739\n",
      "\n",
      "Epoch 00059: val_acc did not improve from 0.97670\n",
      "Epoch 60/100\n",
      "60000/60000 [==============================] - 20s 331us/step - loss: 0.0112 - acc: 0.9916 - val_loss: 0.0290 - val_acc: 0.9748\n",
      "\n",
      "Epoch 00060: val_acc did not improve from 0.97670\n",
      "Epoch 61/100\n",
      "60000/60000 [==============================] - 20s 331us/step - loss: 0.0101 - acc: 0.9922 - val_loss: 0.0298 - val_acc: 0.9754\n",
      "\n",
      "Epoch 00061: val_acc did not improve from 0.97670\n",
      "Epoch 62/100\n",
      "60000/60000 [==============================] - 20s 331us/step - loss: 0.0103 - acc: 0.9919 - val_loss: 0.0277 - val_acc: 0.9774\n",
      "\n",
      "Epoch 00062: val_acc improved from 0.97670 to 0.97740, saving model to /root/workspace/bnn_p4/BaNaNa-split-binarization/binarized/saved_models/MLPbinarized_mnist_model.062-0.98.h5\n",
      "Epoch 63/100\n",
      "60000/60000 [==============================] - 20s 335us/step - loss: 0.0102 - acc: 0.9921 - val_loss: 0.0324 - val_acc: 0.9754\n",
      "\n",
      "Epoch 00063: val_acc did not improve from 0.97740\n",
      "Epoch 64/100\n",
      "60000/60000 [==============================] - 20s 335us/step - loss: 0.0080 - acc: 0.9939 - val_loss: 0.0271 - val_acc: 0.9759\n",
      "\n",
      "Epoch 00064: val_acc did not improve from 0.97740\n",
      "Epoch 65/100\n",
      "60000/60000 [==============================] - 20s 334us/step - loss: 0.0068 - acc: 0.9951 - val_loss: 0.0324 - val_acc: 0.9718\n",
      "\n",
      "Epoch 00065: val_acc did not improve from 0.97740\n",
      "Epoch 66/100\n",
      "60000/60000 [==============================] - 20s 334us/step - loss: 0.0080 - acc: 0.9938 - val_loss: 0.0250 - val_acc: 0.9805\n",
      "\n",
      "Epoch 00066: val_acc improved from 0.97740 to 0.98050, saving model to /root/workspace/bnn_p4/BaNaNa-split-binarization/binarized/saved_models/MLPbinarized_mnist_model.066-0.98.h5\n",
      "Epoch 67/100\n",
      "60000/60000 [==============================] - 20s 335us/step - loss: 0.0068 - acc: 0.9953 - val_loss: 0.0240 - val_acc: 0.9803\n",
      "\n",
      "Epoch 00067: val_acc did not improve from 0.98050\n",
      "Epoch 68/100\n",
      "60000/60000 [==============================] - 20s 331us/step - loss: 0.0066 - acc: 0.9953 - val_loss: 0.0299 - val_acc: 0.9745\n",
      "\n",
      "Epoch 00068: val_acc did not improve from 0.98050\n",
      "Epoch 69/100\n",
      "60000/60000 [==============================] - 20s 331us/step - loss: 0.0067 - acc: 0.9952 - val_loss: 0.0268 - val_acc: 0.9766\n",
      "\n",
      "Epoch 00069: val_acc did not improve from 0.98050\n",
      "Epoch 70/100\n",
      "60000/60000 [==============================] - 20s 331us/step - loss: 0.0053 - acc: 0.9967 - val_loss: 0.0278 - val_acc: 0.9772\n",
      "\n",
      "Epoch 00070: val_acc did not improve from 0.98050\n",
      "Epoch 71/100\n",
      "60000/60000 [==============================] - 20s 331us/step - loss: 0.0056 - acc: 0.9965 - val_loss: 0.0248 - val_acc: 0.9792\n",
      "\n",
      "Epoch 00071: val_acc did not improve from 0.98050\n",
      "Epoch 72/100\n",
      "60000/60000 [==============================] - 20s 331us/step - loss: 0.0063 - acc: 0.9956 - val_loss: 0.0344 - val_acc: 0.9710\n",
      "\n",
      "Epoch 00072: val_acc did not improve from 0.98050\n",
      "Epoch 73/100\n",
      "60000/60000 [==============================] - 20s 331us/step - loss: 0.0053 - acc: 0.9966 - val_loss: 0.0278 - val_acc: 0.9774\n",
      "\n",
      "Epoch 00073: val_acc did not improve from 0.98050\n",
      "Epoch 74/100\n",
      "60000/60000 [==============================] - 20s 331us/step - loss: 0.0044 - acc: 0.9974 - val_loss: 0.0236 - val_acc: 0.9804\n",
      "\n",
      "Epoch 00074: val_acc did not improve from 0.98050\n",
      "Epoch 75/100\n",
      "60000/60000 [==============================] - 20s 331us/step - loss: 0.0036 - acc: 0.9980 - val_loss: 0.0285 - val_acc: 0.9797\n",
      "\n",
      "Epoch 00075: val_acc did not improve from 0.98050\n",
      "Epoch 76/100\n",
      "60000/60000 [==============================] - 20s 331us/step - loss: 0.0033 - acc: 0.9981 - val_loss: 0.0245 - val_acc: 0.9794\n",
      "\n",
      "Epoch 00076: val_acc did not improve from 0.98050\n",
      "Epoch 77/100\n",
      "60000/60000 [==============================] - 20s 331us/step - loss: 0.0037 - acc: 0.9980 - val_loss: 0.0235 - val_acc: 0.9809\n",
      "\n",
      "Epoch 00077: val_acc improved from 0.98050 to 0.98090, saving model to /root/workspace/bnn_p4/BaNaNa-split-binarization/binarized/saved_models/MLPbinarized_mnist_model.077-0.98.h5\n",
      "Epoch 78/100\n",
      "60000/60000 [==============================] - 20s 336us/step - loss: 0.0030 - acc: 0.9986 - val_loss: 0.0264 - val_acc: 0.9775\n",
      "\n",
      "Epoch 00078: val_acc did not improve from 0.98090\n",
      "Epoch 79/100\n",
      "60000/60000 [==============================] - 20s 333us/step - loss: 0.0040 - acc: 0.9978 - val_loss: 0.0241 - val_acc: 0.9787\n",
      "\n",
      "Epoch 00079: val_acc did not improve from 0.98090\n",
      "Epoch 80/100\n",
      "60000/60000 [==============================] - 20s 331us/step - loss: 0.0034 - acc: 0.9981 - val_loss: 0.0254 - val_acc: 0.9787\n",
      "\n",
      "Epoch 00080: val_acc did not improve from 0.98090\n",
      "Epoch 81/100\n",
      "60000/60000 [==============================] - 20s 331us/step - loss: 0.0034 - acc: 0.9981 - val_loss: 0.0248 - val_acc: 0.9806\n",
      "\n",
      "Epoch 00081: val_acc did not improve from 0.98090\n",
      "Epoch 82/100\n",
      "60000/60000 [==============================] - 20s 331us/step - loss: 0.0033 - acc: 0.9980 - val_loss: 0.0241 - val_acc: 0.9808\n",
      "\n",
      "Epoch 00082: val_acc did not improve from 0.98090\n",
      "Epoch 83/100\n",
      "60000/60000 [==============================] - 20s 330us/step - loss: 0.0022 - acc: 0.9990 - val_loss: 0.0212 - val_acc: 0.9804\n",
      "\n",
      "Epoch 00083: val_acc did not improve from 0.98090\n",
      "Epoch 84/100\n",
      "60000/60000 [==============================] - 20s 328us/step - loss: 0.0018 - acc: 0.9995 - val_loss: 0.0214 - val_acc: 0.9818\n",
      "\n",
      "Epoch 00084: val_acc improved from 0.98090 to 0.98180, saving model to /root/workspace/bnn_p4/BaNaNa-split-binarization/binarized/saved_models/MLPbinarized_mnist_model.084-0.98.h5\n",
      "Epoch 85/100\n",
      "60000/60000 [==============================] - 20s 337us/step - loss: 0.0022 - acc: 0.9991 - val_loss: 0.0342 - val_acc: 0.9752\n",
      "\n",
      "Epoch 00085: val_acc did not improve from 0.98180\n",
      "Epoch 86/100\n",
      "60000/60000 [==============================] - 20s 331us/step - loss: 0.0025 - acc: 0.9988 - val_loss: 0.0222 - val_acc: 0.9805\n",
      "\n",
      "Epoch 00086: val_acc did not improve from 0.98180\n",
      "Epoch 87/100\n",
      "60000/60000 [==============================] - 20s 331us/step - loss: 0.0018 - acc: 0.9991 - val_loss: 0.0216 - val_acc: 0.9805\n",
      "\n",
      "Epoch 00087: val_acc did not improve from 0.98180\n",
      "Epoch 88/100\n",
      "60000/60000 [==============================] - 20s 331us/step - loss: 0.0016 - acc: 0.9994 - val_loss: 0.0205 - val_acc: 0.9831\n",
      "\n",
      "Epoch 00088: val_acc improved from 0.98180 to 0.98310, saving model to /root/workspace/bnn_p4/BaNaNa-split-binarization/binarized/saved_models/MLPbinarized_mnist_model.088-0.98.h5\n",
      "Epoch 89/100\n",
      "60000/60000 [==============================] - 20s 331us/step - loss: 0.0018 - acc: 0.9993 - val_loss: 0.0244 - val_acc: 0.9811\n",
      "\n",
      "Epoch 00089: val_acc did not improve from 0.98310\n",
      "Epoch 90/100\n",
      "60000/60000 [==============================] - 20s 332us/step - loss: 0.0023 - acc: 0.9990 - val_loss: 0.0230 - val_acc: 0.9811\n",
      "\n",
      "Epoch 00090: val_acc did not improve from 0.98310\n",
      "Epoch 91/100\n",
      "60000/60000 [==============================] - 20s 331us/step - loss: 0.0015 - acc: 0.9995 - val_loss: 0.0274 - val_acc: 0.9783\n",
      "\n",
      "Epoch 00091: val_acc did not improve from 0.98310\n",
      "Epoch 92/100\n",
      "60000/60000 [==============================] - 20s 331us/step - loss: 0.0020 - acc: 0.9992 - val_loss: 0.0232 - val_acc: 0.9814\n",
      "\n",
      "Epoch 00092: val_acc did not improve from 0.98310\n",
      "Epoch 93/100\n",
      "60000/60000 [==============================] - 20s 331us/step - loss: 0.0013 - acc: 0.9995 - val_loss: 0.0232 - val_acc: 0.9808\n",
      "\n",
      "Epoch 00093: val_acc did not improve from 0.98310\n",
      "Epoch 94/100\n",
      "60000/60000 [==============================] - 20s 331us/step - loss: 0.0013 - acc: 0.9996 - val_loss: 0.0205 - val_acc: 0.9837\n",
      "\n",
      "Epoch 00094: val_acc improved from 0.98310 to 0.98370, saving model to /root/workspace/bnn_p4/BaNaNa-split-binarization/binarized/saved_models/MLPbinarized_mnist_model.094-0.98.h5\n",
      "Epoch 95/100\n",
      "60000/60000 [==============================] - 20s 334us/step - loss: 0.0012 - acc: 0.9996 - val_loss: 0.0234 - val_acc: 0.9815\n",
      "\n",
      "Epoch 00095: val_acc did not improve from 0.98370\n",
      "Epoch 96/100\n",
      "60000/60000 [==============================] - 20s 328us/step - loss: 0.0010 - acc: 0.9997 - val_loss: 0.0204 - val_acc: 0.9828\n",
      "\n",
      "Epoch 00096: val_acc did not improve from 0.98370\n",
      "Epoch 97/100\n",
      "60000/60000 [==============================] - 20s 328us/step - loss: 0.0012 - acc: 0.9995 - val_loss: 0.0212 - val_acc: 0.9826\n",
      "\n",
      "Epoch 00097: val_acc did not improve from 0.98370\n",
      "Epoch 98/100\n",
      "60000/60000 [==============================] - 20s 328us/step - loss: 0.0012 - acc: 0.9996 - val_loss: 0.0248 - val_acc: 0.9822\n",
      "\n",
      "Epoch 00098: val_acc did not improve from 0.98370\n",
      "Epoch 99/100\n",
      "60000/60000 [==============================] - 20s 331us/step - loss: 7.7016e-04 - acc: 0.9998 - val_loss: 0.0234 - val_acc: 0.9830\n",
      "\n",
      "Epoch 00099: val_acc did not improve from 0.98370\n",
      "Epoch 100/100\n",
      "60000/60000 [==============================] - 20s 331us/step - loss: 6.8278e-04 - acc: 0.9999 - val_loss: 0.0220 - val_acc: 0.9836\n",
      "\n",
      "Epoch 00100: val_acc did not improve from 0.98370\n"
     ]
    }
   ],
   "source": [
    "history = model.fit(X_train, Y_train,\n",
    "                    batch_size=batch_size, epochs=epochs,\n",
    "                    verbose=1, validation_data=(X_test, Y_test),\n",
    "                    callbacks=[lr_scheduler, checkpoint])"
   ]
  },
  {
   "cell_type": "code",
   "execution_count": 13,
   "metadata": {},
   "outputs": [
    {
     "data": {
      "image/png": "[encoded data removed]",
      "text/plain": [
       "<Figure size 576x432 with 1 Axes>"
      ]
     },
     "metadata": {},
     "output_type": "display_data"
    },
    {
     "data": {
      "image/png": "[encoded data removed]",
      "text/plain": [
       "<Figure size 576x432 with 1 Axes>"
      ]
     },
     "metadata": {},
     "output_type": "display_data"
    }
   ],
   "source": [
    "plt.figure(0)\n",
    "plt.plot(model.history.history['acc'],'r')\n",
    "plt.plot(model.history.history['val_acc'],'g')\n",
    "# plt.xticks(np.arange(0, epochs, 1.0))\n",
    "plt.rcParams['figure.figsize'] = (8, 6)\n",
    "plt.xlabel(\"Num of Epochs\")\n",
    "plt.ylabel(\"Accuracy\")\n",
    "plt.title(\"Training Accuracy vs Validation Accuracy\")\n",
    "plt.legend(['train','validation'])\n",
    " \n",
    " \n",
    "plt.figure(1)\n",
    "plt.plot(model.history.history['loss'],'r')\n",
    "plt.plot(model.history.history['val_loss'],'g')\n",
    "# plt.xticks(np.arange(0, epochs, 1.0))\n",
    "plt.rcParams['figure.figsize'] = (8, 6)\n",
    "plt.xlabel(\"Num of Epochs\")\n",
    "plt.ylabel(\"Loss\")\n",
    "plt.title(\"Training Loss vs Validation Loss\")\n",
    "plt.legend(['train','validation'])\n",
    " \n",
    " \n",
    "plt.show()"
   ]
  },
  {
   "cell_type": "code",
   "execution_count": 14,
   "metadata": {},
   "outputs": [
    {
     "name": "stdout",
     "output_type": "stream",
     "text": [
      "Test score: 0.021945517713251275\n",
      "Test accuracy: 0.9836\n"
     ]
    }
   ],
   "source": [
    "score = model.evaluate(X_test, Y_test, verbose=0)\n",
    "print('Test score:', score[0])\n",
    "print('Test accuracy:', score[1])"
   ]
  },
  {
   "cell_type": "code",
   "execution_count": 15,
   "metadata": {},
   "outputs": [],
   "source": [
    "import matplotlib.pyplot as plt"
   ]
  },
  {
   "cell_type": "code",
   "execution_count": 16,
   "metadata": {},
   "outputs": [
    {
     "data": {
      "text/plain": [
       "{'whiskers': [<matplotlib.lines.Line2D at 0x7f980c6a5908>,\n",
       "  <matplotlib.lines.Line2D at 0x7f980c6a5ba8>],\n",
       " 'caps': [<matplotlib.lines.Line2D at 0x7f980be496a0>,\n",
       "  <matplotlib.lines.Line2D at 0x7f980be498d0>],\n",
       " 'boxes': [<matplotlib.lines.Line2D at 0x7f980be55160>],\n",
       " 'medians': [<matplotlib.lines.Line2D at 0x7f980be49fd0>],\n",
       " 'fliers': [<matplotlib.lines.Line2D at 0x7f980be49ba8>],\n",
       " 'means': []}"
      ]
     },
     "execution_count": 16,
     "metadata": {},
     "output_type": "execute_result"
    },
    {
     "data": {
      "image/png": "[encoded data removed]",
      "text/plain": [
       "<Figure size 576x432 with 1 Axes>"
      ]
     },
     "metadata": {},
     "output_type": "display_data"
    }
   ],
   "source": [
    "plt.boxplot(model.layers[4].get_weights()[0].reshape(-1))"
   ]
  },
  {
   "cell_type": "code",
   "execution_count": 21,
   "metadata": {},
   "outputs": [
    {
     "name": "stdout",
     "output_type": "stream",
     "text": [
      "9836 / 10000\n"
     ]
    }
   ],
   "source": [
    "result = model.predict(x=X_test)\n",
    "print(np.sum(np.argmax(result, axis=1) == y_test), '/ 10000')"
   ]
  },
  {
   "cell_type": "markdown",
   "metadata": {},
   "source": [
    "# Binarization of layer weigths"
   ]
  },
  {
   "cell_type": "code",
   "execution_count": 22,
   "metadata": {},
   "outputs": [],
   "source": [
    "from binary_ops import xnorize # import binarization funciton"
   ]
  },
  {
   "cell_type": "code",
   "execution_count": 23,
   "metadata": {},
   "outputs": [
    {
     "data": {
      "text/plain": [
       "array([[-0.01526715,  0.00191934, -0.01407744, ..., -0.01715918,\n",
       "        -0.00833443, -0.01510963],\n",
       "       [ 0.00369941, -0.00755651, -0.01621231, ...,  0.01299602,\n",
       "        -0.01108886, -0.01434364],\n",
       "       [-0.01179592, -0.0061256 , -0.00960373, ..., -0.01212393,\n",
       "        -0.01014454, -0.00343211],\n",
       "       ...,\n",
       "       [ 0.00452799,  0.01094631, -0.00430525, ..., -0.00982988,\n",
       "        -0.00638388,  0.01059396],\n",
       "       [-0.00330026, -0.00649353, -0.00343137, ...,  0.01214291,\n",
       "         0.00832314, -0.0133811 ],\n",
       "       [ 0.00811843,  0.00909702,  0.01573012, ...,  0.00695065,\n",
       "         0.01704335, -0.00659497]], dtype=float32)"
      ]
     },
     "execution_count": 23,
     "metadata": {},
     "output_type": "execute_result"
    }
   ],
   "source": [
    "model.layers[0].get_weights()[0] # get one layer weigths"
   ]
  },
  {
   "cell_type": "code",
   "execution_count": 24,
   "metadata": {},
   "outputs": [],
   "source": [
    "kerasW = K.variable(model.layers[0].get_weights()[0]) # transform ndarray in keras tensor\n",
    "(Wa, Wb) = xnorize(W=kerasW)"
   ]
  },
  {
   "cell_type": "code",
   "execution_count": 25,
   "metadata": {},
   "outputs": [
    {
     "data": {
      "text/plain": [
       "array([[-1.,  1., -1., ..., -1., -1., -1.],\n",
       "       [ 1., -1., -1., ...,  1., -1., -1.],\n",
       "       [-1., -1., -1., ..., -1., -1., -1.],\n",
       "       ...,\n",
       "       [ 1.,  1., -1., ..., -1., -1.,  1.],\n",
       "       [-1., -1., -1., ...,  1.,  1., -1.],\n",
       "       [ 1.,  1.,  1., ...,  1.,  1., -1.]], dtype=float32)"
      ]
     },
     "execution_count": 25,
     "metadata": {},
     "output_type": "execute_result"
    }
   ],
   "source": [
    "K.eval(Wb) # transform Keras tensor in ndarray"
   ]
  },
  {
   "cell_type": "code",
   "execution_count": 26,
   "metadata": {},
   "outputs": [],
   "source": [
    "def get_binarized_params(W):\n",
    "    temp_tensor = K.variable(W)\n",
    "    (Wa, Wb) = xnorize(W=temp_tensor)\n",
    "    return K.eval(Wb)"
   ]
  },
  {
   "cell_type": "code",
   "execution_count": 27,
   "metadata": {},
   "outputs": [],
   "source": [
    "l1 = get_binarized_params(model.layers[0].get_weights()[0])\n",
    "l2 = get_binarized_params(model.layers[2].get_weights()[0])\n",
    "l3 = get_binarized_params(model.layers[4].get_weights()[0])"
   ]
  },
  {
   "cell_type": "code",
   "execution_count": 28,
   "metadata": {},
   "outputs": [
    {
     "data": {
      "text/plain": [
       "(array([[-1.,  1., -1., ..., -1., -1., -1.],\n",
       "        [ 1., -1., -1., ...,  1., -1., -1.],\n",
       "        [-1., -1., -1., ..., -1., -1., -1.],\n",
       "        ...,\n",
       "        [ 1.,  1., -1., ..., -1., -1.,  1.],\n",
       "        [-1., -1., -1., ...,  1.,  1., -1.],\n",
       "        [ 1.,  1.,  1., ...,  1.,  1., -1.]], dtype=float32),\n",
       " array([[-1.,  1.,  1., ..., -1.,  1., -1.],\n",
       "        [ 1.,  1., -1., ...,  1., -1.,  1.],\n",
       "        [-1.,  1., -1., ..., -1.,  1.,  1.],\n",
       "        ...,\n",
       "        [ 1., -1., -1., ..., -1., -1., -1.],\n",
       "        [-1.,  1.,  1., ..., -1.,  1., -1.],\n",
       "        [-1.,  1.,  1., ..., -1.,  1., -1.]], dtype=float32),\n",
       " array([[ 1., -1., -1., ...,  1.,  1., -1.],\n",
       "        [ 1., -1., -1., ..., -1., -1.,  1.],\n",
       "        [-1., -1., -1., ..., -1.,  1., -1.],\n",
       "        ...,\n",
       "        [-1.,  1., -1., ...,  1., -1.,  1.],\n",
       "        [ 1., -1., -1., ...,  1.,  1., -1.],\n",
       "        [ 1.,  1., -1., ..., -1.,  1.,  1.]], dtype=float32))"
      ]
     },
     "execution_count": 28,
     "metadata": {},
     "output_type": "execute_result"
    }
   ],
   "source": [
    "l1, l2, l3"
   ]
  },
  {
   "cell_type": "code",
   "execution_count": 29,
   "metadata": {},
   "outputs": [],
   "source": [
    "model.layers[0].set_weights(weights=[l1])\n",
    "model.layers[2].set_weights(weights=[l2])\n",
    "model.layers[4].set_weights(weights=[l3])"
   ]
  },
  {
   "cell_type": "code",
   "execution_count": 30,
   "metadata": {},
   "outputs": [
    {
     "name": "stdout",
     "output_type": "stream",
     "text": [
      "[[-1.  1. -1. ... -1. -1. -1.]\n",
      " [ 1. -1. -1. ...  1. -1. -1.]\n",
      " [-1. -1. -1. ... -1. -1. -1.]\n",
      " ...\n",
      " [ 1.  1. -1. ... -1. -1.  1.]\n",
      " [-1. -1. -1. ...  1.  1. -1.]\n",
      " [ 1.  1.  1. ...  1.  1. -1.]]\n",
      "[[-1.  1.  1. ... -1.  1. -1.]\n",
      " [ 1.  1. -1. ...  1. -1.  1.]\n",
      " [-1.  1. -1. ... -1.  1.  1.]\n",
      " ...\n",
      " [ 1. -1. -1. ... -1. -1. -1.]\n",
      " [-1.  1.  1. ... -1.  1. -1.]\n",
      " [-1.  1.  1. ... -1.  1. -1.]]\n",
      "[[ 1. -1. -1. ...  1.  1. -1.]\n",
      " [ 1. -1. -1. ... -1. -1.  1.]\n",
      " [-1. -1. -1. ... -1.  1. -1.]\n",
      " ...\n",
      " [-1.  1. -1. ...  1. -1.  1.]\n",
      " [ 1. -1. -1. ...  1.  1. -1.]\n",
      " [ 1.  1. -1. ... -1.  1.  1.]]\n"
     ]
    }
   ],
   "source": [
    "print(model.layers[0].get_weights()[0])\n",
    "print(model.layers[2].get_weights()[0])\n",
    "print(model.layers[4].get_weights()[0])"
   ]
  },
  {
   "cell_type": "code",
   "execution_count": 31,
   "metadata": {},
   "outputs": [
    {
     "name": "stdout",
     "output_type": "stream",
     "text": [
      "Test accuracy: 0.9834\n"
     ]
    }
   ],
   "source": [
    "score = model.evaluate(X_test, Y_test, verbose=0)\n",
    "print('Test accuracy:', score[1])"
   ]
  },
  {
   "cell_type": "code",
   "execution_count": 33,
   "metadata": {},
   "outputs": [
    {
     "data": {
      "text/plain": [
       "{'whiskers': [<matplotlib.lines.Line2D at 0x7f980ba0aa58>,\n",
       "  <matplotlib.lines.Line2D at 0x7f980ba0aef0>],\n",
       " 'caps': [<matplotlib.lines.Line2D at 0x7f980ba14358>,\n",
       "  <matplotlib.lines.Line2D at 0x7f980ba14780>],\n",
       " 'boxes': [<matplotlib.lines.Line2D at 0x7f980ba0a908>],\n",
       " 'medians': [<matplotlib.lines.Line2D at 0x7f980ba14ba8>],\n",
       " 'fliers': [<matplotlib.lines.Line2D at 0x7f980ba14fd0>],\n",
       " 'means': []}"
      ]
     },
     "execution_count": 33,
     "metadata": {},
     "output_type": "execute_result"
    },
    {
     "data": {
      "image/png": "[encoded data removed]",
      "text/plain": [
       "<Figure size 576x432 with 1 Axes>"
      ]
     },
     "metadata": {},
     "output_type": "display_data"
    }
   ],
   "source": [
    "plt.boxplot(model.layers[4].get_weights()[0].reshape(-1))"
   ]
  },
  {
   "cell_type": "markdown",
   "metadata": {},
   "source": [
    "# Binarized input"
   ]
  },
  {
   "cell_type": "code",
   "execution_count": 34,
   "metadata": {},
   "outputs": [
    {
     "name": "stdout",
     "output_type": "stream",
     "text": [
      "[[-1. -1. -1. ... -1. -1. -1.]\n",
      " [-1. -1. -1. ... -1. -1. -1.]\n",
      " [-1. -1. -1. ... -1. -1. -1.]\n",
      " ...\n",
      " [-1. -1. -1. ... -1. -1. -1.]\n",
      " [-1. -1. -1. ... -1. -1. -1.]\n",
      " [-1. -1. -1. ... -1. -1. -1.]]\n"
     ]
    }
   ],
   "source": [
    "X_test_bin = get_binarized_params(X_test)\n",
    "print(X_test_bin)"
   ]
  },
  {
   "cell_type": "code",
   "execution_count": 35,
   "metadata": {},
   "outputs": [
    {
     "name": "stdout",
     "output_type": "stream",
     "text": [
      "Test accuracy: 0.9834\n"
     ]
    }
   ],
   "source": [
    "score = model.evaluate(X_test, Y_test, verbose=0)\n",
    "print('Test accuracy:', score[1])"
   ]
  },
  {
   "cell_type": "markdown",
   "metadata": {},
   "source": [
    "# Acks\n",
    "\n",
    "This notebook uses code from and inspired by [2] for the binarized layers implementation.\n",
    "\n",
    "[1] https://github.com/mjiansun/cifar10-vgg16/blob/master/vgg_transfer.py [2] https://github.com/DingKe/BinaryNet"
   ]
  }
 ],
 "metadata": {
  "kernelspec": {
   "display_name": "Python 3",
   "language": "python",
   "name": "python3"
  },
  "language_info": {
   "codemirror_mode": {
    "name": "ipython",
    "version": 3
   },
   "file_extension": ".py",
   "mimetype": "text/x-python",
   "name": "python",
   "nbconvert_exporter": "python",
   "pygments_lexer": "ipython3",
   "version": "3.6.5"
  }
 },
 "nbformat": 4,
 "nbformat_minor": 2
}
